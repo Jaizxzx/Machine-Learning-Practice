{
 "cells": [
  {
   "cell_type": "code",
   "execution_count": 90,
   "metadata": {},
   "outputs": [],
   "source": [
    "import numpy as np \n",
    "import pandas as pd \n",
    "from sklearn.model_selection import train_test_split\n",
    "from sklearn.model_selection import cross_val_score\n",
    "from sklearn.metrics import accuracy_score\n"
   ]
  },
  {
   "cell_type": "markdown",
   "metadata": {},
   "source": [
    "Models"
   ]
  },
  {
   "cell_type": "code",
   "execution_count": 91,
   "metadata": {},
   "outputs": [],
   "source": [
    "from sklearn.linear_model import LogisticRegression\n",
    "from sklearn.svm import SVC\n",
    "from sklearn.neighbors import KNeighborsClassifier\n",
    "from sklearn.ensemble import RandomForestClassifier"
   ]
  },
  {
   "cell_type": "code",
   "execution_count": 92,
   "metadata": {},
   "outputs": [
    {
     "name": "stderr",
     "output_type": "stream",
     "text": [
      "<>:1: SyntaxWarning: invalid escape sequence '\\C'\n",
      "<>:1: SyntaxWarning: invalid escape sequence '\\C'\n",
      "C:\\Users\\jaisi\\AppData\\Local\\Temp\\ipykernel_11176\\3606286575.py:1: SyntaxWarning: invalid escape sequence '\\C'\n",
      "  heart_data = pd.read_csv('D:\\Coding\\AI & ML\\Machine Learning\\Data\\heart_disease_data.csv')\n"
     ]
    }
   ],
   "source": [
    "heart_data = pd.read_csv('D:\\Coding\\AI & ML\\Machine Learning\\Data\\heart_disease_data.csv')"
   ]
  },
  {
   "cell_type": "code",
   "execution_count": 93,
   "metadata": {},
   "outputs": [],
   "source": [
    "X = heart_data.drop(columns='target', axis=1)\n",
    "Y = heart_data['target']"
   ]
  },
  {
   "cell_type": "code",
   "execution_count": 94,
   "metadata": {},
   "outputs": [],
   "source": [
    "X_train, X_test, Y_train, Y_test = train_test_split(X,Y,test_size=0.2,stratify=Y,random_state=2)"
   ]
  },
  {
   "cell_type": "code",
   "execution_count": 95,
   "metadata": {},
   "outputs": [],
   "source": [
    "models = [ LogisticRegression(max_iter=1000), SVC(kernel = 'linear'), KNeighborsClassifier() , RandomForestClassifier()]"
   ]
  },
  {
   "cell_type": "code",
   "execution_count": 96,
   "metadata": {},
   "outputs": [],
   "source": [
    "def compare_models_train_test():\n",
    "    for model in models:\n",
    "        model.fit(X_train,Y_train)\n",
    "        test_data_prediction = model.predict(X_test)\n",
    "        accuracy = accuracy_score(Y_test,test_data_prediction)\n",
    "        print('Accuracy score of the ', model, ' = ' , accuracy)"
   ]
  },
  {
   "cell_type": "code",
   "execution_count": 97,
   "metadata": {},
   "outputs": [
    {
     "name": "stdout",
     "output_type": "stream",
     "text": [
      "Accuracy score of the  LogisticRegression(max_iter=1000)  =  0.8032786885245902\n"
     ]
    },
    {
     "name": "stdout",
     "output_type": "stream",
     "text": [
      "Accuracy score of the  SVC(kernel='linear')  =  0.819672131147541\n",
      "Accuracy score of the  KNeighborsClassifier()  =  0.6229508196721312\n",
      "Accuracy score of the  RandomForestClassifier()  =  0.8032786885245902\n"
     ]
    }
   ],
   "source": [
    "compare_models_train_test()"
   ]
  },
  {
   "cell_type": "markdown",
   "metadata": {},
   "source": [
    "Cross Validation for Logistic Regression "
   ]
  },
  {
   "cell_type": "code",
   "execution_count": 98,
   "metadata": {},
   "outputs": [
    {
     "name": "stderr",
     "output_type": "stream",
     "text": [
      "C:\\Users\\jaisi\\AppData\\Local\\Packages\\PythonSoftwareFoundation.Python.3.12_qbz5n2kfra8p0\\LocalCache\\local-packages\\Python312\\site-packages\\sklearn\\linear_model\\_logistic.py:469: ConvergenceWarning: lbfgs failed to converge (status=1):\n",
      "STOP: TOTAL NO. of ITERATIONS REACHED LIMIT.\n",
      "\n",
      "Increase the number of iterations (max_iter) or scale the data as shown in:\n",
      "    https://scikit-learn.org/stable/modules/preprocessing.html\n",
      "Please also refer to the documentation for alternative solver options:\n",
      "    https://scikit-learn.org/stable/modules/linear_model.html#logistic-regression\n",
      "  n_iter_i = _check_optimize_result(\n"
     ]
    }
   ],
   "source": [
    "cv_score_lr = cross_val_score(LogisticRegression(max_iter=1000),X,Y,cv=5)"
   ]
  },
  {
   "cell_type": "code",
   "execution_count": 99,
   "metadata": {},
   "outputs": [
    {
     "name": "stdout",
     "output_type": "stream",
     "text": [
      "82.83\n"
     ]
    }
   ],
   "source": [
    "mean_accuracy_cv_lr = sum(cv_score_lr)/len(cv_score_lr)\n",
    "mean_accuracy_cv_lr = mean_accuracy_cv_lr*100\n",
    "mean_accuracy_cv_lr = round(mean_accuracy_cv_lr,2)\n",
    "print(mean_accuracy_cv_lr)"
   ]
  },
  {
   "cell_type": "markdown",
   "metadata": {},
   "source": [
    "Cross Validation for Support Vector Machine"
   ]
  },
  {
   "cell_type": "code",
   "execution_count": 100,
   "metadata": {},
   "outputs": [
    {
     "name": "stdout",
     "output_type": "stream",
     "text": [
      "82.83\n"
     ]
    }
   ],
   "source": [
    "cv_score_svm = cross_val_score(SVC(kernel='linear'),X,Y,cv=5)\n",
    "mean_accuracy_cv_svm = sum(cv_score_svm)/len(cv_score_svm)\n",
    "mean_accuracy_cv_svm = mean_accuracy_cv_svm*100\n",
    "mean_accuracy_cv_svm = round(mean_accuracy_cv_svm,2)\n",
    "print(mean_accuracy_cv_svm)"
   ]
  },
  {
   "cell_type": "markdown",
   "metadata": {},
   "source": [
    "Function to automate the model comparison "
   ]
  },
  {
   "cell_type": "code",
   "execution_count": 101,
   "metadata": {},
   "outputs": [],
   "source": [
    "models = [ LogisticRegression(max_iter=1000), SVC(kernel = 'linear'), KNeighborsClassifier() , RandomForestClassifier()]"
   ]
  },
  {
   "cell_type": "code",
   "execution_count": 102,
   "metadata": {},
   "outputs": [],
   "source": [
    "def compare_models_cross_validation():\n",
    "    for model in models:\n",
    "        cv_score = cross_val_score(model, X, Y, cv =5)\n",
    "        mean_accuracy_cv = sum(cv_score)/len(cv_score)\n",
    "        mean_accuracy_cv = mean_accuracy_cv*100\n",
    "        mean_accuracy_cv= round(mean_accuracy_cv,2)\n",
    "        print('Cross Validation accuracies for', model , ' = ', cv_score)\n",
    "        print('Accuracy % of the ', model,mean_accuracy_cv)\n",
    "        print('---------------------------------------------')"
   ]
  },
  {
   "cell_type": "code",
   "execution_count": 103,
   "metadata": {},
   "outputs": [
    {
     "name": "stderr",
     "output_type": "stream",
     "text": [
      "C:\\Users\\jaisi\\AppData\\Local\\Packages\\PythonSoftwareFoundation.Python.3.12_qbz5n2kfra8p0\\LocalCache\\local-packages\\Python312\\site-packages\\sklearn\\linear_model\\_logistic.py:469: ConvergenceWarning: lbfgs failed to converge (status=1):\n",
      "STOP: TOTAL NO. of ITERATIONS REACHED LIMIT.\n",
      "\n",
      "Increase the number of iterations (max_iter) or scale the data as shown in:\n",
      "    https://scikit-learn.org/stable/modules/preprocessing.html\n",
      "Please also refer to the documentation for alternative solver options:\n",
      "    https://scikit-learn.org/stable/modules/linear_model.html#logistic-regression\n",
      "  n_iter_i = _check_optimize_result(\n"
     ]
    },
    {
     "name": "stdout",
     "output_type": "stream",
     "text": [
      "Cross Validation accuracies for LogisticRegression(max_iter=1000)  =  [0.80327869 0.86885246 0.85245902 0.86666667 0.75      ]\n",
      "Accuracy % of the  LogisticRegression(max_iter=1000) 82.83\n",
      "---------------------------------------------\n",
      "Cross Validation accuracies for SVC(kernel='linear')  =  [0.81967213 0.8852459  0.80327869 0.86666667 0.76666667]\n",
      "Accuracy % of the  SVC(kernel='linear') 82.83\n",
      "---------------------------------------------\n",
      "Cross Validation accuracies for KNeighborsClassifier()  =  [0.60655738 0.6557377  0.57377049 0.73333333 0.65      ]\n",
      "Accuracy % of the  KNeighborsClassifier() 64.39\n",
      "---------------------------------------------\n",
      "Cross Validation accuracies for RandomForestClassifier()  =  [0.83606557 0.90163934 0.81967213 0.81666667 0.76666667]\n",
      "Accuracy % of the  RandomForestClassifier() 82.81\n",
      "---------------------------------------------\n"
     ]
    }
   ],
   "source": [
    "compare_models_cross_validation()"
   ]
  }
 ],
 "metadata": {
  "kernelspec": {
   "display_name": "Python 3",
   "language": "python",
   "name": "python3"
  },
  "language_info": {
   "codemirror_mode": {
    "name": "ipython",
    "version": 3
   },
   "file_extension": ".py",
   "mimetype": "text/x-python",
   "name": "python",
   "nbconvert_exporter": "python",
   "pygments_lexer": "ipython3",
   "version": "3.12.2"
  }
 },
 "nbformat": 4,
 "nbformat_minor": 2
}
