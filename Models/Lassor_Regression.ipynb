{
 "cells": [
  {
   "cell_type": "code",
   "execution_count": null,
   "metadata": {},
   "outputs": [],
   "source": [
    "import numpy as np"
   ]
  },
  {
   "cell_type": "code",
   "execution_count": null,
   "metadata": {},
   "outputs": [],
   "source": [
    "# Lasso Regrsesion is just linear Regression with a penalty perameter in the cost function \n",
    "\n",
    "class Lasso_Regression():\n",
    "    def __init__(self,learning_rate,no_of_iterations,lambda_parameter,):\n",
    "        self.learning_rate = learning_rate\n",
    "        self.no_of_iterations = no_of_iterations\n",
    "        self.lambda_parameter = lambda_parameter\n",
    "\n",
    "\n",
    "\n",
    "    def fit(self,X,Y):\n",
    "        self.m , self.n = X.shape\n",
    "        self.w = np.zeros(self.n)\n",
    "        self.b = 0\n",
    "        self.X = X\n",
    "        self.Y = Y\n",
    "        for i in range(self.no_of_iterations):\n",
    "            self.update_weights()\n",
    "\n",
    "\n",
    "    def update_weights(self):\n",
    "        Y_prediction = self.predict(self.X)\n",
    "        dw = np.zeros(self.n)\n",
    "        for i in range(self.n):\n",
    "            if self.w[i]>0:\n",
    "                dw[i] = (-(2*(self.X[:,i]).dot(self.Y - Y_prediction)) + self.lambda_parameter)/ self.m \n",
    "            else:\n",
    "                dw[i] = (-(2*(self.X[:,i]).dot(self.Y - Y_prediction)) - self.lambda_parameter)/ self.m \n",
    "        \n",
    "        # gradient for bias\n",
    "        db = -2*np.sum(self.Y - Y_prediction ) / self.m\n",
    "\n",
    "        # updating the weights and bias\n",
    "\n",
    "        self.w = self.w - self.learning_rate*dw\n",
    "        self.b = self.b - self.learning_rate*db\n",
    "\n",
    "\n",
    "    def predict(self,X):\n",
    "        return X.dot(self.w) + self.b"
   ]
  }
 ],
 "metadata": {
  "language_info": {
   "name": "python"
  }
 },
 "nbformat": 4,
 "nbformat_minor": 2
}
