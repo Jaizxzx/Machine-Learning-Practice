{
 "cells": [
  {
   "cell_type": "code",
   "execution_count": 1,
   "metadata": {},
   "outputs": [],
   "source": [
    "import numpy as np "
   ]
  },
  {
   "cell_type": "code",
   "execution_count": null,
   "metadata": {},
   "outputs": [],
   "source": [
    "class SVM_classifier():\n",
    "    def __init__(self,learning_rate, no_of_iterations, lambda_parameter) :\n",
    "        self.learning_rate = learning_rate\n",
    "        self.no_of_iterations = no_of_iterations\n",
    "        self.lambda_parameter = lambda_parameter\n",
    "\n",
    "    def fit(self,X,Y):\n",
    "\n",
    "        self.m, self.n = X.shape\n",
    "\n",
    "        self.w = np.zeros(self.n)\n",
    "        self.b = 0\n",
    "        self.X = X\n",
    "        self.Y = Y\n",
    "\n",
    "        for i in range(self.no_of_iterations):\n",
    "            self.update_weight()\n",
    "\n",
    "\n",
    "    def update_weight(self):\n",
    "        y_label = np.where(self.Y<=0,-1,1)\n",
    "\n",
    "        for index, x_i in enumerate(self.X):\n",
    "\n",
    "            condition = y_label[index]*(np.dot(x_i,self.w) - self.b) >=1\n",
    "            \n",
    "            if(condition == True):\n",
    "                dw = 2*self.lambda_parameter*self.w\n",
    "                db = 0\n",
    "            else:\n",
    "                dw = 2*self.lambda_parameter*self.w - np.dot(x_i,y_label[index])\n",
    "                db = y_label[index]\n",
    "            \n",
    "            self.w = self.w - self.learning_rate*dw\n",
    "            self.b = self.b - self.learning_rate*db\n",
    "\n",
    "\n",
    "    def predict(self, X):\n",
    "\n",
    "        output = np.dot(X,self.w) - self.b\n",
    "        predicted_labels = np.sign(output)\n",
    "        y_hat = np.where(predicted_labels <= -1,0,1)\n",
    "        return y_hat()\n",
    "        \n"
   ]
  }
 ],
 "metadata": {
  "kernelspec": {
   "display_name": "Python 3",
   "language": "python",
   "name": "python3"
  },
  "language_info": {
   "codemirror_mode": {
    "name": "ipython",
    "version": 3
   },
   "file_extension": ".py",
   "mimetype": "text/x-python",
   "name": "python",
   "nbconvert_exporter": "python",
   "pygments_lexer": "ipython3",
   "version": "3.12.2"
  }
 },
 "nbformat": 4,
 "nbformat_minor": 2
}
